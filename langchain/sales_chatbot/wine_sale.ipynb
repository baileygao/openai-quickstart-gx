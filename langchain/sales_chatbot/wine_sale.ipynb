{
 "cells": [
  {
   "cell_type": "code",
   "execution_count": 7,
   "id": "455a50ca-c299-47e1-9111-e095489dd119",
   "metadata": {},
   "outputs": [],
   "source": [
    "with open(\"wine.txt\", encoding='utf-8') as f:\n",
    "    real_estate_sales = f.read()"
   ]
  },
  {
   "cell_type": "code",
   "execution_count": 8,
   "id": "101a39fe-3370-4cfc-967a-80a667c249f8",
   "metadata": {},
   "outputs": [],
   "source": [
    "from langchain.text_splitter import CharacterTextSplitter"
   ]
  },
  {
   "cell_type": "code",
   "execution_count": 9,
   "id": "8e9aebc3-b2c1-4ce6-ac41-f6851b9c5e79",
   "metadata": {},
   "outputs": [],
   "source": [
    "text_splitter = CharacterTextSplitter(        \n",
    "    separator = r'\\d+\\.',\n",
    "    chunk_size = 100,\n",
    "    chunk_overlap  = 0,\n",
    "    length_function = len,\n",
    "    is_separator_regex = True,\n",
    ")"
   ]
  },
  {
   "cell_type": "code",
   "execution_count": 10,
   "id": "111cf459-12fd-4649-999a-a4fe800016fe",
   "metadata": {},
   "outputs": [],
   "source": [
    "docs = text_splitter.create_documents([real_estate_sales])"
   ]
  },
  {
   "cell_type": "code",
   "execution_count": 12,
   "id": "90d29404-8c31-4e16-872b-af581c2ab9c4",
   "metadata": {},
   "outputs": [
    {
     "data": {
      "text/plain": [
       "Document(page_content='客户问题：白酒能保存多久？\\n销售回答：如果储存得当，这款白酒可以保存多年而不失其风味。\\n\\n\\\\d+\\\\. 客户问题：这款白酒口感如何？\\n销售回答：这款白酒口感醇厚，余味悠长，非常适合搭配各种菜肴。', metadata={})"
      ]
     },
     "execution_count": 12,
     "metadata": {},
     "output_type": "execute_result"
    }
   ],
   "source": [
    "docs[2]"
   ]
  },
  {
   "cell_type": "code",
   "execution_count": 13,
   "id": "a9242273-2c20-4076-b67d-0e8212b3d725",
   "metadata": {},
   "outputs": [
    {
     "name": "stderr",
     "output_type": "stream",
     "text": [
      "Retrying langchain.embeddings.openai.embed_with_retry.<locals>._embed_with_retry in 4.0 seconds as it raised APIConnectionError: Error communicating with OpenAI: ('Connection aborted.', ConnectionResetError(10054, '远程主机强迫关闭了一个现有的连接。', None, 10054, None)).\n",
      "Retrying langchain.embeddings.openai.embed_with_retry.<locals>._embed_with_retry in 4.0 seconds as it raised APIConnectionError: Error communicating with OpenAI: ('Connection aborted.', ConnectionResetError(10054, '远程主机强迫关闭了一个现有的连接。', None, 10054, None)).\n"
     ]
    }
   ],
   "source": [
    "from langchain.embeddings.openai import OpenAIEmbeddings\n",
    "from langchain.text_splitter import CharacterTextSplitter\n",
    "from langchain.vectorstores import FAISS\n",
    "\n",
    "db = FAISS.from_documents(docs, OpenAIEmbeddings())"
   ]
  },
  {
   "cell_type": "code",
   "execution_count": 14,
   "id": "371836b2-13bb-493d-ae07-66fb52b93bf8",
   "metadata": {},
   "outputs": [],
   "source": [
    "query = \"酒好喝吗\""
   ]
  },
  {
   "cell_type": "code",
   "execution_count": 15,
   "id": "a179660a-b379-44d9-bcab-c4be54544d7d",
   "metadata": {},
   "outputs": [],
   "source": [
    "answer_list = db.similarity_search(query)"
   ]
  },
  {
   "cell_type": "code",
   "execution_count": 16,
   "id": "519c6838-4c6d-4364-855d-3be5a44a10de",
   "metadata": {},
   "outputs": [
    {
     "name": "stdout",
     "output_type": "stream",
     "text": [
      "客户问题：适合什么场合喝？\n",
      "销售回答：这款白酒非常适合家庭聚餐、商务宴请或节日庆典等多种场合。\n",
      "\n",
      "客户问题：我怎么知道这款酒适不适合我？\n",
      "销售回答：我们有专门的品酒师，他们可以根据您的口味和需求，为您推荐合适的产品。\n",
      "\n",
      "客户问题：你们有没有年份酒？\n",
      "销售回答：是的，我们有限量的年份酒，每一瓶都有其独特的风味和纪念价值。\n",
      "\n",
      "客户问题：这个酒怎么配餐最佳？\n",
      "销售回答：这款白酒尤为适合搭配红肉和辛辣食物，能够衬托出酒和食物的风味。\n",
      "\n"
     ]
    }
   ],
   "source": [
    "for ans in answer_list:\n",
    "    print(ans.page_content + \"\\n\")"
   ]
  },
  {
   "cell_type": "code",
   "execution_count": 17,
   "id": "597b600d-1ab5-4af4-815b-6700444b52e5",
   "metadata": {},
   "outputs": [],
   "source": [
    "topK_retriever = db.as_retriever(search_kwargs={\"k\": 3})"
   ]
  },
  {
   "cell_type": "code",
   "execution_count": 18,
   "id": "b1bdc4a2-a577-4ac5-994f-975a2b9f0179",
   "metadata": {},
   "outputs": [
    {
     "data": {
      "text/plain": [
       "VectorStoreRetriever(tags=['FAISS'], metadata=None, vectorstore=<langchain.vectorstores.faiss.FAISS object at 0x0000018B607DD9D0>, search_type='similarity', search_kwargs={'k': 3})"
      ]
     },
     "execution_count": 18,
     "metadata": {},
     "output_type": "execute_result"
    }
   ],
   "source": [
    "topK_retriever"
   ]
  },
  {
   "cell_type": "code",
   "execution_count": 19,
   "id": "67c0ece2-0266-490e-bf32-f64397215777",
   "metadata": {},
   "outputs": [
    {
     "name": "stdout",
     "output_type": "stream",
     "text": [
      "客户问题：适合什么场合喝？\n",
      "销售回答：这款白酒非常适合家庭聚餐、商务宴请或节日庆典等多种场合。\n",
      "\n",
      "客户问题：我怎么知道这款酒适不适合我？\n",
      "销售回答：我们有专门的品酒师，他们可以根据您的口味和需求，为您推荐合适的产品。\n",
      "\n",
      "客户问题：你们有没有年份酒？\n",
      "销售回答：是的，我们有限量的年份酒，每一瓶都有其独特的风味和纪念价值。\n",
      "\n"
     ]
    }
   ],
   "source": [
    "docs = topK_retriever.get_relevant_documents(query)\n",
    "for doc in docs:\n",
    "    print(doc.page_content + \"\\n\")"
   ]
  },
  {
   "cell_type": "code",
   "execution_count": 20,
   "id": "30f3a39d-dbbf-4eb5-ac62-d4c756ec6d44",
   "metadata": {},
   "outputs": [],
   "source": [
    "docs = topK_retriever.get_relevant_documents(\"你们有没有1万的酒啊？\")"
   ]
  },
  {
   "cell_type": "code",
   "execution_count": 21,
   "id": "b1da0e52-17bf-4888-a3c9-3b7d2fe442de",
   "metadata": {},
   "outputs": [
    {
     "name": "stdout",
     "output_type": "stream",
     "text": [
      "客户问题：你们有没有年份酒？\n",
      "销售回答：是的，我们有限量的年份酒，每一瓶都有其独特的风味和纪念价值。\n",
      "\n",
      "客户问题：你们的白酒有几种型号？\n",
      "销售回答：我们有多种型号和口感，满足不同消费者的需求。\n",
      "\n",
      "客户问题：你们还有其他产品吗？\n",
      "销售回答：除了白酒，我们还提供一系列与白酒相关的周边产品，如特制酒杯和礼品套装。\n",
      "\n"
     ]
    }
   ],
   "source": [
    "for doc in docs:\n",
    "    print(doc.page_content + \"\\n\")"
   ]
  },
  {
   "cell_type": "code",
   "execution_count": null,
   "id": "88ec2728-8239-4c95-8f94-d3e584e447da",
   "metadata": {},
   "outputs": [],
   "source": []
  }
 ],
 "metadata": {
  "kernelspec": {
   "display_name": "Python 3 (ipykernel)",
   "language": "python",
   "name": "python3"
  },
  "language_info": {
   "codemirror_mode": {
    "name": "ipython",
    "version": 3
   },
   "file_extension": ".py",
   "mimetype": "text/x-python",
   "name": "python",
   "nbconvert_exporter": "python",
   "pygments_lexer": "ipython3",
   "version": "3.11.5"
  }
 },
 "nbformat": 4,
 "nbformat_minor": 5
}
